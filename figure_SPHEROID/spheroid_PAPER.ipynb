{
 "cells": [
  {
   "cell_type": "code",
   "execution_count": null,
   "id": "knowing-shopper",
   "metadata": {},
   "outputs": [],
   "source": [
    "import tifffile\n",
    "import pandas\n",
    "\n",
    "from griottes.analyse import cell_property_extraction\n",
    "from griottes.graphmaker import graph_generation_func\n",
    "from griottes.graphplotter import graph_plot\n",
    "import griottes"
   ]
  },
  {
   "cell_type": "markdown",
   "id": "engaging-trinity",
   "metadata": {},
   "source": [
    "## Figure 3: Network representation of the spheroid\n",
    "\n",
    "From the image we can extract the single cell information. For the analysis, it is necessary that the channels be structured as $Z \\times X \\times Y \\times C$, where $C$ is the fluorescence channels in a multi-channel image.\n",
    "\n",
    "The file `total_image.tiff` can be downloaded from XXX."
   ]
  },
  {
   "cell_type": "code",
   "execution_count": null,
   "id": "acknowledged-burden",
   "metadata": {},
   "outputs": [],
   "source": [
    "total_image = tifffile.imread('total_image.tiff')\n",
    "total_image = total_image[110:400, ...]"
   ]
  },
  {
   "cell_type": "code",
   "execution_count": null,
   "id": "framed-healthcare",
   "metadata": {},
   "outputs": [],
   "source": [
    "prop, vor = cell_property_extraction.get_cell_properties(\n",
    "    total_image.astype(int),\n",
    "    mask_channel = 3,\n",
    "    analyze_fluo_channels = True,\n",
    "    fluo_channel_analysis_method = 'local_voronoi',\n",
    "    cell_geometry_properties = True,\n",
    "    radius = 35,\n",
    "    labeled_voronoi_tesselation = False,\n",
    "    percentile = 95,\n",
    "    min_area = 4000\n",
    "    )"
   ]
  },
  {
   "cell_type": "markdown",
   "id": "rotary-librarian",
   "metadata": {},
   "source": [
    "From the extracted positions of the cell centers, it is possible to generate a network representation of the 3D spheroid. For practical purposes, we have saved the dataframe containing the previously extracted information which is re-used below."
   ]
  },
  {
   "cell_type": "code",
   "execution_count": null,
   "id": "unusual-genius",
   "metadata": {},
   "outputs": [],
   "source": [
    "prop = pandas.read_csv('prop.csv')"
   ]
  },
  {
   "cell_type": "code",
   "execution_count": null,
   "id": "martial-amber",
   "metadata": {},
   "outputs": [],
   "source": [
    "prop['cell_type'] = (prop.mean_intensity_1 > prop.mean_intensity_1.median()).astype(int)\n",
    "prop.index = np.arange(len(prop))\n",
    "\n",
    "legend_list = ['CD146-', 'CD146+']\n",
    "prop['legend'] = [legend_list[prop.loc[i, 'cell_type']] for i in range(len(prop))]\n",
    "\n",
    "color_list = [plt.cm.Set3(i) for i in range(2)]\n",
    "prop['color'] = [color_list[prop.loc[i, 'cell_type']] for i in range(len(prop))]\n"
   ]
  },
  {
   "cell_type": "code",
   "execution_count": null,
   "id": "divided-processing",
   "metadata": {},
   "outputs": [],
   "source": [
    "descriptors = ['x', 'y', 'legend', 'color', 'cell_type']\n",
    "\n",
    "G = graph_generation_func.generate_delaunay_graph(prop, \n",
    "                                                 descriptors = descriptors, \n",
    "                                                 dCells = 100,\n",
    "                                                 flat_image = True)"
   ]
  },
  {
   "cell_type": "code",
   "execution_count": null,
   "id": "transsexual-reaction",
   "metadata": {},
   "outputs": [],
   "source": [
    "graph_plot.network_plot_3D(G, \n",
    "                figsize = (7, 7),\n",
    "                alpha_line=0.6,\n",
    "                scatterpoint_size=10,\n",
    "                legend=True,\n",
    "                legend_fontsize = 18,\n",
    "                theta = -0,\n",
    "                psi = -0,\n",
    "                xlim = (prop.x.min() - 5, prop.x.max() + 5),\n",
    "                ylim = (prop.y.min() - 5, prop.y.max() + 5),\n",
    "                zlim = (prop.z.min() - 5, prop.z.max() + 5))"
   ]
  }
 ],
 "metadata": {
  "kernelspec": {
   "display_name": "Python 3",
   "language": "python",
   "name": "python3"
  },
  "language_info": {
   "codemirror_mode": {
    "name": "ipython",
    "version": 3
   },
   "file_extension": ".py",
   "mimetype": "text/x-python",
   "name": "python",
   "nbconvert_exporter": "python",
   "pygments_lexer": "ipython3",
   "version": "3.8.3"
  }
 },
 "nbformat": 4,
 "nbformat_minor": 5
}
